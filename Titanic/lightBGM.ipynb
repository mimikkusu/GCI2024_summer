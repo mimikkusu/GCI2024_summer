{
 "cells": [
  {
   "cell_type": "code",
   "execution_count": 6,
   "metadata": {},
   "outputs": [
    {
     "data": {
      "text/plain": [
       "'%.3f'"
      ]
     },
     "execution_count": 6,
     "metadata": {},
     "output_type": "execute_result"
    }
   ],
   "source": [
    "import numpy as np\n",
    "import pandas as pd\n",
    "from pandas import DataFrame, Series\n",
    "import matplotlib.pyplot as plt\n",
    "import seaborn as sns\n",
    "from sklearn.linear_model import LogisticRegression\n",
    "from sklearn.neural_network import MLPClassifier\n",
    "from sklearn.model_selection import train_test_split\n",
    "import lightgbm as lgb\n",
    "import warnings \n",
    "from sklearn.metrics import accuracy_score\n",
    "from sklearn.model_selection import KFold\n",
    "warnings.filterwarnings('ignore')\n",
    "%precision 3"
   ]
  },
  {
   "cell_type": "code",
   "execution_count": 7,
   "metadata": {},
   "outputs": [
    {
     "name": "stdout",
     "output_type": "stream",
     "text": [
      "Mrs is 38.903225806451616 Miss is 21.774843750000002 Mas 7.406470588235294 Mrs 38.903225806451616\n"
     ]
    }
   ],
   "source": [
    "## data前処理\n",
    "path = \"../data/\"\n",
    "df = pd.read_csv(path + 'train.csv')\n",
    "df_test = pd.read_csv(path + 'test.csv')\n",
    "\n",
    "Mr = df[df[\"Name\"].str.contains(\"Mr.\")][\"Age\"].mean()\n",
    "Mrs = df[df[\"Name\"].str.contains(\"Mrs.\")][\"Age\"].mean()\n",
    "Mas = df[df[\"Name\"].str.contains(\"Master.\")][\"Age\"].mean()\n",
    "Miss = df[df[\"Name\"].str.contains(\"Miss.\")][\"Age\"].mean()\n",
    "Dr = df_test[df_test[\"Sex\"]==\"male\"][\"Age\"].mean()\n",
    "\n",
    "Mr = df_test[df_test[\"Name\"].str.contains(\"Mr.\")][\"Age\"].mean()\n",
    "Mrs = df_test[df_test[\"Name\"].str.contains(\"Mrs.\")][\"Age\"].mean()\n",
    "Mas = df_test[df_test[\"Name\"].str.contains(\"Master.\")][\"Age\"].mean()\n",
    "Miss = df_test[df_test[\"Name\"].str.contains(\"Miss\")][\"Age\"].mean()\n",
    "\n",
    "df.loc[df[\"Age\"].isnull() & df[\"Name\"].str.contains(\"Mr\"), \"Age\"] = Mr\n",
    "df.loc[df[\"Age\"].isnull() & df[\"Name\"].str.contains(\"Mrs\"), \"Age\"] = Mrs\n",
    "df.loc[df[\"Age\"].isnull() & df[\"Name\"].str.contains(\"Master\"), \"Age\"] = Mas\n",
    "df.loc[df[\"Age\"].isnull() & df[\"Name\"].str.contains(\"Miss\"), \"Age\"] = Miss\n",
    "df.loc[df[\"Age\"].isnull() & df[\"Name\"].str.contains(\"Dr.\"), \"Age\"] = Dr\n",
    "\n",
    "print(f\"Mrs is {Mrs} Miss is {Miss} Mas {Mas} Mrs {Mrs}\")\n",
    "df_test.loc[df_test[\"Age\"].isnull() & df_test[\"Name\"].str.contains(\"Mr\"), \"Age\"] = Mr\n",
    "df_test.loc[df_test[\"Age\"].isnull() & df_test[\"Name\"].str.contains(\"Mrs\"), \"Age\"] = Mrs\n",
    "df_test.loc[df_test[\"Age\"].isnull() & df_test[\"Name\"].str.contains(\"Master\"), \"Age\"] = Mas\n",
    "df_test.loc[df_test[\"Age\"].isnull() & df_test[\"Name\"].str.contains(\"Miss\"), \"Age\"] = Miss\n",
    "df_test.loc[df_test[\"Age\"].isnull() & df_test[\"Name\"].str.contains(\"Ms.\"), \"Age\"] = (Mrs+Miss)/2\n",
    "\n",
    "\n",
    "df[\"Embarked\"] = df[\"Embarked\"].fillna(\"S\")\n",
    "df_test[\"Embarked\"] = df_test[\"Embarked\"].fillna(\"S\")\n",
    "\n",
    "df[\"family\"] = df[\"SibSp\"] + df[\"Parch\"]\n",
    "df_test[\"family\"] = df_test[\"SibSp\"] + df_test[\"Parch\"]\n",
    "\n",
    "df = pd.get_dummies(df,columns=[\"Embarked\"],dtype=int)\n",
    "df_test = pd.get_dummies(df_test,columns=[\"Embarked\"],dtype=int)\n",
    "\n",
    "df.replace({'Sex': {'male': 0, 'female': 1}}, inplace=True)\n",
    "df_test.replace({'Sex': {'male': 0, 'female': 1}}, inplace=True)\n",
    "df_test['Fare'].fillna(27.079812, inplace=True)\n",
    "\n",
    "dropCols = [\"Name\",\"Ticket\",\"Cabin\",\"SibSp\",\"Parch\"] \n",
    " \n",
    "df_sub = df.drop(columns=dropCols)\n",
    "df_test_sub = df_test.drop(columns=dropCols)\n",
    "\n",
    "X = df_sub.iloc[:, 2:].values\n",
    "y = df_sub[\"Perished\"].values\n",
    "df_test_X = df_test_sub.iloc[:, 1:].values\n",
    "\n",
    "X_train, X_valid, y_train, y_valid = train_test_split(X, y, test_size=0.3, random_state=0)"
   ]
  },
  {
   "cell_type": "code",
   "execution_count": null,
   "metadata": {},
   "outputs": [],
   "source": [
    "###kfold実装\n",
    "kf = KFold(n_splits=5,shuffle=True,random_state=42)\n",
    "\n",
    "score = []\n",
    "models = []\n",
    "\n",
    "param_grid = {'max_depth': [3, 5, 7,9],\n",
    "              'min_samples_leaf': [1, 2, 4]}\n",
    "\n",
    "for fold_ , (train_index,valid_index) in enumerate(kf.split(X,y)):\n",
    "    print(f'fold{fold_+1}start')\n",
    "    train_x = X[train_index]\n",
    "    valid_x = X[valid_index]\n",
    "    train_y = y[train_index]\n",
    "    valid_y = y[valid_index]\n",
    "    \n",
    "    train_data = lgb.Dataset(train_x,train_y)\n",
    "    eval_data = lgb.Dataset(valid_x,valid_y)\n",
    "    \n",
    "    params = {\n",
    "    'objective': 'binary',\n",
    "    'boosting_type':'gbdt',\n",
    "    'num_leaves':15,\n",
    "    'max_depth':5,\n",
    "    'random_state':0,\n",
    "    'min_data_in_leaf':20,\n",
    "    'n_estimators': 50,\n",
    "    \n",
    "}\n",
    "    \n",
    "    model = lgb.train(\n",
    "    params=params,\n",
    "    train_set=train_data,\n",
    "    valid_sets=[train_data,eval_data]\n",
    ")\n",
    "    \n",
    "    print(f\"training ------ \\n{accuracy_score(train_y,(model.predict(train_x)>0.5).astype(int))}\")\n",
    "    \n",
    "    pred = model.predict(valid_x)\n",
    "    result = (pred>0.5).astype(int)\n",
    "    \n",
    "    print(f\"test -------\\n{accuracy_score(valid_y,result)}\")\n",
    "    score.append(round(accuracy_score(valid_y,result),2))\n",
    "    models.append(model)"
   ]
  },
  {
   "cell_type": "code",
   "execution_count": null,
   "metadata": {},
   "outputs": [],
   "source": [
    "#ハイパーパラメータチューニング\n",
    "from sklearn.model_selection import GridSearchCV\n",
    "from sklearn.metrics import accuracy_score\n",
    "import lightgbm as lgb\n",
    "\n",
    "# ハイパーパラメータの設定\n",
    "param_grid = {\n",
    "    'max_depth': [3, 5],\n",
    "    'min_data_in_leaf': [15, 20, 35,40],\n",
    "    'n_estimators': [40,50,60],\n",
    "    'num_leaves': [5,10,15, 20]  # max_depth=5の場合、2^5-1=31 以下\n",
    "}\n",
    "\n",
    "# LightGBMモデルのインスタンス作成\n",
    "estimator = lgb.LGBMClassifier(objective='binary')\n",
    "\n",
    "# GridSearchCVの設定\n",
    "grid_search = GridSearchCV(estimator=estimator, param_grid=param_grid, cv=5, scoring='accuracy')\n",
    "\n",
    "# グリッドサーチの実行\n",
    "grid_search.fit(X_train, y_train)\n",
    "\n",
    "# 最適なパラメータの表示\n",
    "print(f\"Best parameters found: {grid_search.best_params_}\")\n",
    "\n",
    "# 最適なモデルの取得\n",
    "best_model = grid_search.best_estimator_\n",
    "\n",
    "# テストデータで予測\n",
    "y_pred = best_model.predict(X_valid)\n",
    "\n",
    "# モデルの精度を評価\n",
    "accuracy = accuracy_score(y_valid, y_pred)\n",
    "print(f\"Test Accuracy: {accuracy}\")\n",
    "\n"
   ]
  },
  {
   "cell_type": "code",
   "execution_count": 91,
   "metadata": {},
   "outputs": [],
   "source": [
    "y_pred = (model.predict(df_test_X)>0.5).astype(int)\n",
    "path = '../'\n",
    "submission = pd.read_csv(path + 'gender_submission.csv')\n",
    "submission['Perished'] = y_pred\n",
    "submission.to_csv('./submission.csv', index=False)"
   ]
  }
 ],
 "metadata": {
  "kernelspec": {
   "display_name": "Python 3",
   "language": "python",
   "name": "python3"
  },
  "language_info": {
   "codemirror_mode": {
    "name": "ipython",
    "version": 3
   },
   "file_extension": ".py",
   "mimetype": "text/x-python",
   "name": "python",
   "nbconvert_exporter": "python",
   "pygments_lexer": "ipython3",
   "version": "undefined.undefined.undefined"
  }
 },
 "nbformat": 4,
 "nbformat_minor": 2
}
